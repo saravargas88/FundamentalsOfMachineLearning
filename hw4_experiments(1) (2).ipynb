{
 "cells": [
  {
   "cell_type": "code",
   "execution_count": 183,
   "id": "1feb2725-2503-48c4-b9ec-732e89597720",
   "metadata": {},
   "outputs": [],
   "source": [
    "import numpy as np\n",
    "import torch\n",
    "import matplotlib.pyplot as plt\n",
    "from tqdm import tqdm"
   ]
  },
  {
   "cell_type": "code",
   "execution_count": 184,
   "id": "e9186bf8-5847-40f1-8c4f-2c2e81e44bc2",
   "metadata": {},
   "outputs": [],
   "source": [
    "def train(lr = 0.1, steps = 15):\n",
    "    model = torch.nn.Linear(4, 1, bias=False)\n",
    "\n",
    "    # fix the initialization for reproducing results, do not change. In practice, we use random initialization\n",
    "    model.weight.data = torch.FloatTensor([[ 2.0871, -1.3213,  0.7339, -1.0858]])\n",
    "    \n",
    "    optimizer = torch.optim.SGD(model.parameters(), lr=lr)\n",
    "    loss_func = torch.nn.functional.mse_loss\n",
    "    \n",
    "    train_loss_list = []\n",
    "    \n",
    "    model.train()\n",
    "    \n",
    "    for _ in tqdm(range(steps)):\n",
    "        pred = model(X_train)\n",
    "        \n",
    "        # reduction='sum' is for consistent computation for linear regression. In practice, we often use reduction='mean'\n",
    "        loss = 0.5 * loss_func(pred, y_train, reduction='sum') \n",
    "        \n",
    "        optimizer.zero_grad()\n",
    "        loss.backward()\n",
    "        optimizer.step()\n",
    "    \n",
    "        train_loss_list.append(loss.detach().item())\n",
    "\n",
    "    return train_loss_list"
   ]
  },
  {
   "cell_type": "markdown",
   "id": "2078e0fc-d105-41fa-a36a-e2d2e941c3f8",
   "metadata": {},
   "source": [
    "# Dataset 0"
   ]
  },
  {
   "cell_type": "code",
   "execution_count": 185,
   "id": "5c448bce-4a49-44dc-9224-23ede6448ad9",
   "metadata": {},
   "outputs": [],
   "source": [
    "# load the data\n",
    "X_train = np.load('X_train_0.npy')\n",
    "y_train = np.load('y_train_0.npy')\n",
    "\n",
    "X_train = torch.FloatTensor(X_train)\n",
    "y_train = torch.FloatTensor(y_train).unsqueeze(1)"
   ]
  },
  {
   "cell_type": "code",
   "execution_count": 186,
   "id": "7d003117-104e-46ac-80ea-4d18f3e90d5f",
   "metadata": {},
   "outputs": [
    {
     "name": "stderr",
     "output_type": "stream",
     "text": [
      "100%|██████████████████████████████████████████| 15/15 [00:00<00:00, 222.01it/s]\n"
     ]
    },
    {
     "name": "stdout",
     "output_type": "stream",
     "text": [
      "At lr: 0.1\n",
      "0.5020795464515686\n"
     ]
    },
    {
     "name": "stderr",
     "output_type": "stream",
     "text": [
      "100%|█████████████████████████████████████████| 15/15 [00:00<00:00, 3246.20it/s]\n"
     ]
    },
    {
     "name": "stdout",
     "output_type": "stream",
     "text": [
      "At lr: 0.2\n",
      "0.07500029355287552\n"
     ]
    },
    {
     "name": "stderr",
     "output_type": "stream",
     "text": [
      "100%|█████████████████████████████████████████| 15/15 [00:00<00:00, 3317.93it/s]\n"
     ]
    },
    {
     "name": "stdout",
     "output_type": "stream",
     "text": [
      "At lr: 0.3\n",
      "0.012587976641952991\n"
     ]
    },
    {
     "name": "stderr",
     "output_type": "stream",
     "text": [
      "100%|█████████████████████████████████████████| 15/15 [00:00<00:00, 4074.78it/s]\n"
     ]
    },
    {
     "name": "stdout",
     "output_type": "stream",
     "text": [
      "At lr: 0.4\n",
      "0.0021579700987786055\n"
     ]
    },
    {
     "name": "stderr",
     "output_type": "stream",
     "text": [
      "100%|█████████████████████████████████████████| 15/15 [00:00<00:00, 3680.94it/s]\n"
     ]
    },
    {
     "name": "stdout",
     "output_type": "stream",
     "text": [
      "At lr: 0.5\n",
      "0.0003476063720881939\n"
     ]
    },
    {
     "name": "stderr",
     "output_type": "stream",
     "text": [
      "100%|█████████████████████████████████████████| 15/15 [00:00<00:00, 3992.55it/s]\n"
     ]
    },
    {
     "name": "stdout",
     "output_type": "stream",
     "text": [
      "At lr: 0.6\n",
      "5.013357804273255e-05\n"
     ]
    },
    {
     "name": "stderr",
     "output_type": "stream",
     "text": [
      "100%|█████████████████████████████████████████| 15/15 [00:00<00:00, 4031.18it/s]\n"
     ]
    },
    {
     "name": "stdout",
     "output_type": "stream",
     "text": [
      "At lr: 0.7\n",
      "6.2867379710951354e-06\n"
     ]
    },
    {
     "name": "stderr",
     "output_type": "stream",
     "text": [
      "100%|█████████████████████████████████████████| 15/15 [00:00<00:00, 3032.17it/s]\n"
     ]
    },
    {
     "name": "stdout",
     "output_type": "stream",
     "text": [
      "At lr: 0.8\n",
      "6.681175364064984e-07\n"
     ]
    },
    {
     "name": "stderr",
     "output_type": "stream",
     "text": [
      "100%|█████████████████████████████████████████| 15/15 [00:00<00:00, 2850.55it/s]\n"
     ]
    },
    {
     "name": "stdout",
     "output_type": "stream",
     "text": [
      "At lr: 0.9\n",
      "5.843933692517567e-08\n"
     ]
    },
    {
     "name": "stderr",
     "output_type": "stream",
     "text": [
      "100%|█████████████████████████████████████████| 15/15 [00:00<00:00, 3531.75it/s]\n"
     ]
    },
    {
     "name": "stdout",
     "output_type": "stream",
     "text": [
      "At lr: 1.0\n",
      "4.052070234905614e-09\n"
     ]
    },
    {
     "name": "stderr",
     "output_type": "stream",
     "text": [
      "100%|█████████████████████████████████████████| 15/15 [00:00<00:00, 3870.00it/s]\n"
     ]
    },
    {
     "name": "stdout",
     "output_type": "stream",
     "text": [
      "At lr: 1.1\n",
      "2.122710202057121e-10\n"
     ]
    },
    {
     "name": "stderr",
     "output_type": "stream",
     "text": [
      "100%|█████████████████████████████████████████| 15/15 [00:00<00:00, 4545.85it/s]\n"
     ]
    },
    {
     "name": "stdout",
     "output_type": "stream",
     "text": [
      "At lr: 1.2\n",
      "7.83447265395587e-12\n"
     ]
    },
    {
     "name": "stderr",
     "output_type": "stream",
     "text": [
      "100%|█████████████████████████████████████████| 15/15 [00:00<00:00, 4139.39it/s]\n"
     ]
    },
    {
     "name": "stdout",
     "output_type": "stream",
     "text": [
      "At lr: 1.3\n",
      "1.844563862546042e-13\n"
     ]
    },
    {
     "name": "stderr",
     "output_type": "stream",
     "text": [
      "100%|█████████████████████████████████████████| 15/15 [00:00<00:00, 3633.74it/s]\n"
     ]
    },
    {
     "name": "stdout",
     "output_type": "stream",
     "text": [
      "At lr: 1.4\n",
      "4.087434817695579e-12\n"
     ]
    },
    {
     "name": "stderr",
     "output_type": "stream",
     "text": [
      "100%|█████████████████████████████████████████| 15/15 [00:00<00:00, 3919.67it/s]\n"
     ]
    },
    {
     "name": "stdout",
     "output_type": "stream",
     "text": [
      "At lr: 1.5\n",
      "2.2043644687386177e-09\n"
     ]
    },
    {
     "name": "stderr",
     "output_type": "stream",
     "text": [
      "100%|█████████████████████████████████████████| 15/15 [00:00<00:00, 3003.66it/s]\n"
     ]
    },
    {
     "name": "stdout",
     "output_type": "stream",
     "text": [
      "At lr: 1.6\n",
      "3.6283725535213307e-07\n"
     ]
    },
    {
     "name": "stderr",
     "output_type": "stream",
     "text": [
      "100%|█████████████████████████████████████████| 15/15 [00:00<00:00, 3666.56it/s]\n"
     ]
    },
    {
     "name": "stdout",
     "output_type": "stream",
     "text": [
      "At lr: 1.7\n",
      "2.7180343749932945e-05\n"
     ]
    },
    {
     "name": "stderr",
     "output_type": "stream",
     "text": [
      "100%|█████████████████████████████████████████| 15/15 [00:00<00:00, 3897.81it/s]\n"
     ]
    },
    {
     "name": "stdout",
     "output_type": "stream",
     "text": [
      "At lr: 1.8\n",
      "0.0011429532896727324\n"
     ]
    },
    {
     "name": "stderr",
     "output_type": "stream",
     "text": [
      "100%|█████████████████████████████████████████| 15/15 [00:00<00:00, 3013.87it/s]\n"
     ]
    },
    {
     "name": "stdout",
     "output_type": "stream",
     "text": [
      "At lr: 1.9\n",
      "0.030924329534173012\n"
     ]
    },
    {
     "name": "stderr",
     "output_type": "stream",
     "text": [
      "100%|█████████████████████████████████████████| 15/15 [00:00<00:00, 3646.16it/s]"
     ]
    },
    {
     "name": "stdout",
     "output_type": "stream",
     "text": [
      "At lr: 2.0\n",
      "0.5909008383750916\n"
     ]
    },
    {
     "name": "stderr",
     "output_type": "stream",
     "text": [
      "\n"
     ]
    }
   ],
   "source": [
    "loss_vs_lr = dict()\n",
    "\n",
    "# TODO: please change lr_list to your list of learning rates\n",
    "lr_list = [round(0.1 * i, 1) for i in range(1, 21)]\n",
    "lossafter15=dict()\n",
    "for lr in lr_list:\n",
    "    loss_vs_lr[lr] = train(lr=lr, steps=15)\n",
    "    lossafter15[lr]=loss_vs_lr[lr][14]\n",
    "    print(f\"At lr: {lr}\")\n",
    "    print(lossafter15[lr])\n",
    "    "
   ]
  },
  {
   "cell_type": "markdown",
   "id": "1b29b555-4a82-415b-9795-0df7ca060a11",
   "metadata": {},
   "source": [
    "QA) \n",
    "\n",
    "1. a) The largest and smallest real eigenvalues of XTX are 1 and 0.5. "
   ]
  },
  {
   "cell_type": "code",
   "execution_count": 187,
   "id": "4eb5ee83-5f78-4e18-bf9f-b9401735a9e7",
   "metadata": {},
   "outputs": [],
   "source": [
    "\n",
    "XTX = torch.matmul(X_train.T, X_train)\n",
    "evals,evecs= torch.linalg.eig(XTX)\n",
    "real_evals = evals.real\n",
    "max_eigenvalue = torch.max(real_evals)\n",
    "min_eigenvalue = torch.min(real_evals)\n",
    "\n"
   ]
  },
  {
   "cell_type": "markdown",
   "id": "bcd0e02c-1edc-408f-8404-5bab7bd7c23e",
   "metadata": {},
   "source": [
    "2. b)\n",
    "Plot the training loss after 15 steps versus different learning rates η. Please use\n",
    "20 learning rates as {0.1, 0.2, 0.3, . . . , 1.9, 2.0}. (The loss axis is plot in log scaling.\n",
    "Only plot the loss value at 15 steps instead of all values during 0-15 steps.) "
   ]
  },
  {
   "cell_type": "code",
   "execution_count": 188,
   "id": "c9b6d90c-be20-4542-b6b5-cd08881941fd",
   "metadata": {},
   "outputs": [
    {
     "name": "stderr",
     "output_type": "stream",
     "text": [
      "/var/folders/4q/tsr3nb5s33gc0n3xh6lwsp040000gn/T/ipykernel_6100/1426186783.py:13: UserWarning: No artists with labels found to put in legend.  Note that artists whose label start with an underscore are ignored when legend() is called with no argument.\n",
      "  plt.legend()\n"
     ]
    },
    {
     "data": {
      "text/plain": [
       "<matplotlib.legend.Legend at 0x1230e0050>"
      ]
     },
     "execution_count": 188,
     "metadata": {},
     "output_type": "execute_result"
    },
    {
     "data": {
      "image/png": "[encoded data removed]",
      "text/plain": [
       "<Figure size 640x480 with 1 Axes>"
      ]
     },
     "metadata": {},
     "output_type": "display_data"
    }
   ],
   "source": [
    "losses= []\n",
    "\n",
    "for lr in lr_list:\n",
    "    losses.append(lossafter15[lr])\n",
    "    ##we are plotting the loss after the 15 steps for each learning rate. \n",
    "    ##we see the loss decreses until lr = 1.3 and then it increases  \n",
    "    \n",
    "plt.plot(lr_list, losses)\n",
    "plt.ylabel('losses')\n",
    "plt.xlabel('learning rate')\n",
    "plt.yscale('log')\n",
    "plt.title(\"Training loss\")\n",
    "plt.legend()"
   ]
  },
  {
   "cell_type": "markdown",
   "id": "e85a459d-2066-409c-9e7c-eb77395306b1",
   "metadata": {},
   "source": [
    "We are plotting the loss after the 15 steps for each learning rate.\n",
    "We see the loss decreses until lr = 1.3 and then it increases. Suggesting the best learnign rate to minimize the loss is 1.3 \n",
    "\n",
    "    c) We see at the learning rate of 2 the loss function is no longer being minimized and the loss is greater than in smaller learnign rates like 1.3\n",
    "    This is consisten with our limit bound for the learning rate since we know the learning rate for it to be convergent has to remain in the range of 0 an 2/L L beig the maxium eigenvalue and in this scenario we see 2/1= 2. Therfore the uppor bound of the learning rate is 2. \n",
    "    \n",
    "    d) The best learning rate with the smallest loss at 15 steps is learning rate 1.3\n",
    "    \n",
    "\n",
    "\n"
   ]
  },
  {
   "cell_type": "markdown",
   "id": "d629d6b9-43a4-434f-9067-308c65ef6d1a",
   "metadata": {},
   "source": [
    "# Dataset 1"
   ]
  },
  {
   "cell_type": "code",
   "execution_count": 194,
   "id": "b25adef3-b3ed-458b-91e7-8f642990bfb0",
   "metadata": {},
   "outputs": [],
   "source": [
    "# load the data\n",
    "X_train = np.load('X_train_1.npy')\n",
    "y_train = np.load('y_train_1.npy')\n",
    "\n",
    "X_train = torch.FloatTensor(X_train)\n",
    "y_train = torch.FloatTensor(y_train).unsqueeze(1)"
   ]
  },
  {
   "cell_type": "markdown",
   "id": "bead3918-ecca-4532-8be8-03d48884d0ad",
   "metadata": {},
   "source": [
    "QA)\n",
    "\n",
    "    a) The largest and smallest real eigenvalues of XTX are 1 and 0.01\n",
    "\n"
   ]
  },
  {
   "cell_type": "code",
   "execution_count": 195,
   "id": "3722bb82-4494-4164-8e23-b6de632d4121",
   "metadata": {},
   "outputs": [
    {
     "name": "stdout",
     "output_type": "stream",
     "text": [
      "max\n",
      "tensor(1.0000)\n",
      "min\n",
      "tensor(0.0100)\n"
     ]
    }
   ],
   "source": [
    "\n",
    "XTX = torch.matmul(X_train.T, X_train)\n",
    "evals,evecs= torch.linalg.eig(XTX)\n",
    "real_evals = evals.real\n",
    "max_eigenvalue = torch.max(real_evals)\n",
    "print(\"max\")\n",
    "print(max_eigenvalue)\n",
    "min_eigenvalue = torch.min(real_evals)\n",
    "print(\"min\" )\n",
    "print(min_eigenvalue)"
   ]
  },
  {
   "cell_type": "code",
   "execution_count": 196,
   "id": "a1b2b07e-f1e6-4954-b812-ab0a17fca8e8",
   "metadata": {},
   "outputs": [
    {
     "name": "stderr",
     "output_type": "stream",
     "text": [
      "100%|███████████████████████████████████████| 600/600 [00:00<00:00, 4244.96it/s]\n"
     ]
    },
    {
     "name": "stdout",
     "output_type": "stream",
     "text": [
      "At lr: 0.1\n",
      "0.006560997571796179\n"
     ]
    },
    {
     "name": "stderr",
     "output_type": "stream",
     "text": [
      "100%|███████████████████████████████████████| 600/600 [00:00<00:00, 5792.86it/s]\n"
     ]
    },
    {
     "name": "stdout",
     "output_type": "stream",
     "text": [
      "At lr: 0.2\n",
      "0.001976531697437167\n"
     ]
    },
    {
     "name": "stderr",
     "output_type": "stream",
     "text": [
      "100%|███████████████████████████████████████| 600/600 [00:00<00:00, 6052.71it/s]\n"
     ]
    },
    {
     "name": "stdout",
     "output_type": "stream",
     "text": [
      "At lr: 0.3\n",
      "0.0005947237368673086\n"
     ]
    },
    {
     "name": "stderr",
     "output_type": "stream",
     "text": [
      "100%|███████████████████████████████████████| 600/600 [00:00<00:00, 6078.17it/s]\n"
     ]
    },
    {
     "name": "stdout",
     "output_type": "stream",
     "text": [
      "At lr: 0.4\n",
      "0.00017873285105451941\n"
     ]
    },
    {
     "name": "stderr",
     "output_type": "stream",
     "text": [
      "100%|███████████████████████████████████████| 600/600 [00:00<00:00, 6133.89it/s]\n"
     ]
    },
    {
     "name": "stdout",
     "output_type": "stream",
     "text": [
      "At lr: 0.5\n",
      "5.364951357478276e-05\n"
     ]
    },
    {
     "name": "stderr",
     "output_type": "stream",
     "text": [
      "100%|███████████████████████████████████████| 600/600 [00:00<00:00, 6166.31it/s]\n"
     ]
    },
    {
     "name": "stdout",
     "output_type": "stream",
     "text": [
      "At lr: 0.6\n",
      "1.608445745659992e-05\n"
     ]
    },
    {
     "name": "stderr",
     "output_type": "stream",
     "text": [
      "100%|███████████████████████████████████████| 600/600 [00:00<00:00, 5815.82it/s]\n"
     ]
    },
    {
     "name": "stdout",
     "output_type": "stream",
     "text": [
      "At lr: 0.7\n",
      "4.81629012938356e-06\n"
     ]
    },
    {
     "name": "stderr",
     "output_type": "stream",
     "text": [
      "100%|███████████████████████████████████████| 600/600 [00:00<00:00, 5944.55it/s]\n"
     ]
    },
    {
     "name": "stdout",
     "output_type": "stream",
     "text": [
      "At lr: 0.8\n",
      "1.4404492958419723e-06\n"
     ]
    },
    {
     "name": "stderr",
     "output_type": "stream",
     "text": [
      "100%|███████████████████████████████████████| 600/600 [00:00<00:00, 6002.11it/s]\n"
     ]
    },
    {
     "name": "stdout",
     "output_type": "stream",
     "text": [
      "At lr: 0.9\n",
      "4.303003038330644e-07\n"
     ]
    },
    {
     "name": "stderr",
     "output_type": "stream",
     "text": [
      "100%|███████████████████████████████████████| 600/600 [00:00<00:00, 6000.54it/s]\n"
     ]
    },
    {
     "name": "stdout",
     "output_type": "stream",
     "text": [
      "At lr: 1.0\n",
      "1.2837323026815284e-07\n"
     ]
    },
    {
     "name": "stderr",
     "output_type": "stream",
     "text": [
      "100%|███████████████████████████████████████| 600/600 [00:00<00:00, 6046.44it/s]\n"
     ]
    },
    {
     "name": "stdout",
     "output_type": "stream",
     "text": [
      "At lr: 1.1\n",
      "3.8254079015587195e-08\n"
     ]
    },
    {
     "name": "stderr",
     "output_type": "stream",
     "text": [
      "100%|███████████████████████████████████████| 600/600 [00:00<00:00, 6192.73it/s]\n"
     ]
    },
    {
     "name": "stdout",
     "output_type": "stream",
     "text": [
      "At lr: 1.2\n",
      "1.1384527986990634e-08\n"
     ]
    },
    {
     "name": "stderr",
     "output_type": "stream",
     "text": [
      "100%|███████████████████████████████████████| 600/600 [00:00<00:00, 6160.82it/s]\n"
     ]
    },
    {
     "name": "stdout",
     "output_type": "stream",
     "text": [
      "At lr: 1.3\n",
      "3.383791025157734e-09\n"
     ]
    },
    {
     "name": "stderr",
     "output_type": "stream",
     "text": [
      "100%|███████████████████████████████████████| 600/600 [00:00<00:00, 6170.36it/s]\n"
     ]
    },
    {
     "name": "stdout",
     "output_type": "stream",
     "text": [
      "At lr: 1.4\n",
      "1.0045261289448604e-09\n"
     ]
    },
    {
     "name": "stderr",
     "output_type": "stream",
     "text": [
      "100%|███████████████████████████████████████| 600/600 [00:00<00:00, 6179.95it/s]\n"
     ]
    },
    {
     "name": "stdout",
     "output_type": "stream",
     "text": [
      "At lr: 1.5\n",
      "2.981735414131492e-10\n"
     ]
    },
    {
     "name": "stderr",
     "output_type": "stream",
     "text": [
      "100%|███████████████████████████████████████| 600/600 [00:00<00:00, 6174.62it/s]\n"
     ]
    },
    {
     "name": "stdout",
     "output_type": "stream",
     "text": [
      "At lr: 1.6\n",
      "8.813942631302751e-11\n"
     ]
    },
    {
     "name": "stderr",
     "output_type": "stream",
     "text": [
      "100%|███████████████████████████████████████| 600/600 [00:00<00:00, 6170.94it/s]\n"
     ]
    },
    {
     "name": "stdout",
     "output_type": "stream",
     "text": [
      "At lr: 1.7\n",
      "2.5996831423680256e-11\n"
     ]
    },
    {
     "name": "stderr",
     "output_type": "stream",
     "text": [
      "100%|███████████████████████████████████████| 600/600 [00:00<00:00, 6214.09it/s]\n"
     ]
    },
    {
     "name": "stdout",
     "output_type": "stream",
     "text": [
      "At lr: 1.8\n",
      "7.713637020789754e-12\n"
     ]
    },
    {
     "name": "stderr",
     "output_type": "stream",
     "text": [
      "100%|███████████████████████████████████████| 600/600 [00:00<00:00, 6195.15it/s]\n"
     ]
    },
    {
     "name": "stdout",
     "output_type": "stream",
     "text": [
      "At lr: 1.9\n",
      "2.2833386657122867e-12\n"
     ]
    },
    {
     "name": "stderr",
     "output_type": "stream",
     "text": [
      "100%|███████████████████████████████████████| 600/600 [00:00<00:00, 6139.67it/s]"
     ]
    },
    {
     "name": "stdout",
     "output_type": "stream",
     "text": [
      "At lr: 2.0\n",
      "0.5907838344573975\n"
     ]
    },
    {
     "name": "stderr",
     "output_type": "stream",
     "text": [
      "\n"
     ]
    }
   ],
   "source": [
    "loss_vs_lr = dict()\n",
    "\n",
    "lr_list = [round(0.1 * i, 1) for i in range(1, 21)]\n",
    "\n",
    "\n",
    "lossafter600=dict()\n",
    "\n",
    "for lr in lr_list:\n",
    "    loss_vs_lr[lr] = train(lr=lr, steps=600)\n",
    "    lossafter600[lr]= loss_vs_lr[lr][599]\n",
    "    print(f\"At lr: {lr}\")\n",
    "    print(lossafter600[lr])"
   ]
  },
  {
   "cell_type": "code",
   "execution_count": 197,
   "id": "be87eb8d-c694-4a17-8746-5d9340050a1e",
   "metadata": {},
   "outputs": [
    {
     "name": "stderr",
     "output_type": "stream",
     "text": [
      "/var/folders/4q/tsr3nb5s33gc0n3xh6lwsp040000gn/T/ipykernel_6100/2398681827.py:13: UserWarning: No artists with labels found to put in legend.  Note that artists whose label start with an underscore are ignored when legend() is called with no argument.\n",
      "  plt.legend()\n"
     ]
    },
    {
     "data": {
      "text/plain": [
       "<matplotlib.legend.Legend at 0x123473090>"
      ]
     },
     "execution_count": 197,
     "metadata": {},
     "output_type": "execute_result"
    },
    {
     "data": {
      "image/png": "[encoded data removed]",
      "text/plain": [
       "<Figure size 640x480 with 1 Axes>"
      ]
     },
     "metadata": {},
     "output_type": "display_data"
    }
   ],
   "source": [
    "losses= []\n",
    "\n",
    "for lr in lr_list:\n",
    "    losses.append(lossafter600[lr])\n",
    "    ##we are plotting the loss after the 15 steps for each learning rate. \n",
    "    ##we see the loss decreses until lr = 1.3 and then it increases  \n",
    "    \n",
    "plt.plot(lr_list, losses)\n",
    "plt.ylabel('losses')\n",
    "plt.xlabel('learning rate')\n",
    "plt.yscale('log')\n",
    "plt.title(\"Training loss\")\n",
    "plt.legend()"
   ]
  },
  {
   "cell_type": "markdown",
   "id": "3307c587-5190-417c-93cf-58b5ddaef12e",
   "metadata": {},
   "source": [
    "The minimizing learning rate is at 1.9 in datase B\n",
    "\n",
    "We can see from Ab the optimal learning rate was 1.3 and for Bb the optimal learning rate was 1.9 , as the steps increase the minimizing learning rate approaches to the optimal learning rate we found earlier in question 1c. The optimal learning rate is 2/(min_eigenvalue+max_eigenvalue) which is consistent with the following datasets. \n",
    "\n",
    "Dataset 0: \n",
    "    max eval= 1\n",
    "    min eval=0.5\n",
    "    \n",
    "    optimal learning rate= 2/1.5=1.3 among our learning rate list 1.3 is the optimal\n",
    "\n",
    "Dataset 1: \n",
    "\n",
    "    max eval= 1\n",
    "    min eval= 0.01\n",
    "\n",
    "    optimal learning rate= 2/1.01 =1.98 which among our learning rates shows 1.9 is the optimal learning rate since 2 is our upper bound for the learning rate and we know that at 2/L the learning rate is divergent.  \n",
    "\n",
    "    This is consistent with the upper bound of 2/L which in this dataset is 2/1 since the maximum eigenvalue of XTX is 1.\n"
   ]
  },
  {
   "cell_type": "code",
   "execution_count": null,
   "id": "aac3bc8c-1457-4f97-8597-a8cff8f08454",
   "metadata": {},
   "outputs": [],
   "source": []
  }
 ],
 "metadata": {
  "kernelspec": {
   "display_name": "Python 3 (ipykernel)",
   "language": "python",
   "name": "python3"
  },
  "language_info": {
   "codemirror_mode": {
    "name": "ipython",
    "version": 3
   },
   "file_extension": ".py",
   "mimetype": "text/x-python",
   "name": "python",
   "nbconvert_exporter": "python",
   "pygments_lexer": "ipython3",
   "version": "3.11.5"
  }
 },
 "nbformat": 4,
 "nbformat_minor": 5
}
